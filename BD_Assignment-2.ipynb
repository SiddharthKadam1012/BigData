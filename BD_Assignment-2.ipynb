{
  "cells": [
    {
      "cell_type": "markdown",
      "source": [
        "<h1>Big Data Assignment-2</h1>\n",
        "\n",
        "**Siddharth Kadam:**202318015"
      ],
      "metadata": {
        "id": "X7jq8tc1LyFQ"
      }
    },
    {
      "cell_type": "code",
      "source": [
        "\n",
        "from sklearn.metrics.pairwise import cosine_similarity\n",
        "from sklearn.feature_extraction.text import TfidfTransformer\n",
        "from sklearn.feature_extraction.text import TfidfVectorizer\n",
        "from sklearn.datasets import fetch_20newsgroups\n",
        "from sklearn.feature_extraction.text import CountVectorizer, ENGLISH_STOP_WORDS\n",
        "import numpy as np\n",
        "\n",
        "\n",
        "class TFIDF:\n",
        "  def fit_transform(self, documents):\n",
        "        # Step 1: Count Vectorization\n",
        "        term_document_matrix = CountVectorizer().fit_transform(documents)\n",
        "\n",
        "        # Step 2: TF-IDF Transformation\n",
        "        tfidf_matrix = TfidfTransformer().fit_transform(term_document_matrix)\n",
        "\n",
        "        return tfidf_matrix\n",
        "  def Find_cosaine_similarity(self,document_no_1,document_no_2,documents):\n",
        "    tfidf_matrix=self.fit_transform( documents)\n",
        "    tfidf_vector_1 = tfidf_matrix[document_no_1].toarray().flatten()\n",
        "    tfidf_vector_2 = tfidf_matrix[document_no_1].toarray().flatten()\n",
        "    dot_product = sum(i * j for i, j in zip(tfidf_vector_1, tfidf_vector_2))\n",
        "    norm_vector1 = np.linalg.norm(tfidf_vector_1)\n",
        "    norm_vector2 = np.linalg.norm(tfidf_vector_2)\n",
        "\n",
        "    # Avoiding  division by zero\n",
        "    if norm_vector1 == 0 or norm_vector2 == 0:\n",
        "        return 0.0\n",
        "\n",
        "    similarity = dot_product / (norm_vector1 * norm_vector2)\n",
        "\n",
        "    return similarity\n",
        "\n",
        "  def find_similar_document(self,query_document,documents):\n",
        "    tfidf_matrix=self.fit_transform( documents)\n",
        "    query =  TfidfVectorizer().fit(documents).transform([query_document]).toarray().flatten()\n",
        "\n",
        "    similarities=[]\n",
        "    for i in range(len(documents)):\n",
        "     # similarities.append(np.dot(np.array(query), tfidf_matrix[i].toarray().flatten()) / (np.linalg.norm(np.array(query)) * np.linalg.norm(tfidf_matrix[i].toarray().flatten())))\n",
        "      dot_product = sum(i * j for i, j in zip(query, tfidf_matrix[i].toarray().flatten()))\n",
        "      norm_vector1 = np.linalg.norm(query)\n",
        "      norm_vector2 = np.linalg.norm(tfidf_matrix[i].toarray().flatten())\n",
        "      if norm_vector1 == 0 or norm_vector2 == 0:\n",
        "        similarities.append( 0.0)\n",
        "      else:\n",
        "        similarities.append( dot_product / (norm_vector1 * norm_vector2))\n",
        "\n",
        "\n",
        "    # Creating a list of document indices sorted by similarities we found\n",
        "    sorted_indices = sorted(range(len(similarities)), key=lambda k: similarities[k], reverse=True)\n",
        "\n",
        "    # combining document and there similarities score\n",
        "    similar_doc= [(documents[i], similarities[i]) for i in sorted_indices]\n",
        "\n",
        "    return similar_doc\n"
      ],
      "metadata": {
        "id": "lfYL4K0J6Tja"
      },
      "execution_count": 1,
      "outputs": []
    },
    {
      "cell_type": "code",
      "source": [
        "\n",
        "# Fetching the data from  20newsgroups dataset\n",
        "data_obj = fetch_20newsgroups(subset=\"train\").data\n"
      ],
      "metadata": {
        "id": "uzdTx4DMJyNh"
      },
      "execution_count": 2,
      "outputs": []
    },
    {
      "cell_type": "code",
      "source": [
        "#Finding TF-IDF Scores\n",
        "\n",
        "tfidf_matrix = TFIDF().fit_transform(data_obj)\n",
        "print(tfidf_matrix)"
      ],
      "metadata": {
        "colab": {
          "base_uri": "https://localhost:8080/"
        },
        "id": "0KPrIXPZJ66B",
        "outputId": "f4ad4a13-cb4f-4d5d-affc-f9516ce91950"
      },
      "execution_count": 3,
      "outputs": [
        {
          "output_type": "stream",
          "name": "stdout",
          "text": [
            "  (0, 128420)\t0.04278499079283093\n",
            "  (0, 128402)\t0.05922294083277842\n",
            "  (0, 128026)\t0.060622095889758885\n",
            "  (0, 124931)\t0.08882569909852546\n",
            "  (0, 124031)\t0.10798795154169122\n",
            "  (0, 123989)\t0.08207027465330353\n",
            "  (0, 123984)\t0.036854292634593756\n",
            "  (0, 123796)\t0.049437556160455476\n",
            "  (0, 123292)\t0.14534718515938805\n",
            "  (0, 123162)\t0.2597090245735688\n",
            "  (0, 118983)\t0.037085978050619146\n",
            "  (0, 118280)\t0.2118680720828169\n",
            "  (0, 115475)\t0.042472629883573\n",
            "  (0, 114731)\t0.14447275512784058\n",
            "  (0, 114688)\t0.06214070986309586\n",
            "  (0, 114579)\t0.03671830826216751\n",
            "  (0, 114455)\t0.12287762616208957\n",
            "  (0, 114428)\t0.05511105154696676\n",
            "  (0, 113986)\t0.17691750674853082\n",
            "  (0, 111322)\t0.01915671802495043\n",
            "  (0, 109581)\t0.10809248404447917\n",
            "  (0, 109271)\t0.10844724822064673\n",
            "  (0, 108252)\t0.07526015712540636\n",
            "  (0, 106116)\t0.09869734624201922\n",
            "  (0, 104813)\t0.08462829788929047\n",
            "  :\t:\n",
            "  (11313, 62696)\t0.06213004660468942\n",
            "  (11313, 60910)\t0.34638730155641734\n",
            "  (11313, 60803)\t0.07995422310508192\n",
            "  (11313, 56979)\t0.039703068357897435\n",
            "  (11313, 56283)\t0.02607488632151599\n",
            "  (11313, 55411)\t0.06186613753683744\n",
            "  (11313, 51730)\t0.10067098834752666\n",
            "  (11313, 50527)\t0.05659515244000391\n",
            "  (11313, 47982)\t0.04878764010149915\n",
            "  (11313, 38412)\t0.1036626622028617\n",
            "  (11313, 38329)\t0.3188672316645619\n",
            "  (11313, 38325)\t0.15275412572672764\n",
            "  (11313, 37469)\t0.20012648171635533\n",
            "  (11313, 37413)\t0.16268391686660966\n",
            "  (11313, 33941)\t0.09553399237711814\n",
            "  (11313, 32988)\t0.06639443458516447\n",
            "  (11313, 31386)\t0.11766332475169258\n",
            "  (11313, 30044)\t0.03581554412880591\n",
            "  (11313, 28146)\t0.04703946070749562\n",
            "  (11313, 27696)\t0.1447050212747473\n",
            "  (11313, 25402)\t0.07399132052611829\n",
            "  (11313, 11390)\t0.14229394541348833\n",
            "  (11313, 8653)\t0.19138342755986237\n",
            "  (11313, 4605)\t0.06562288156075428\n",
            "  (11313, 3411)\t0.06958305141739549\n"
          ]
        }
      ]
    },
    {
      "cell_type": "code",
      "source": [
        "# Finding the Similaritys between two Document\n",
        "\n",
        "similarity=TFIDF().Find_cosaine_similarity(0,1,data_obj)\n",
        "print(\"Similarity between first two document:0\",similarity)"
      ],
      "metadata": {
        "colab": {
          "base_uri": "https://localhost:8080/"
        },
        "id": "YgWvgcFbKD5z",
        "outputId": "74b9fc14-dc24-4eb0-986c-5b0dadd0114e"
      },
      "execution_count": 4,
      "outputs": [
        {
          "output_type": "stream",
          "name": "stdout",
          "text": [
            "Similarity between first two document:0 1.0\n"
          ]
        }
      ]
    },
    {
      "cell_type": "code",
      "source": [
        "# Finding most similar document as the Query\n",
        "query=\"What car is it?\"\n",
        "Similar_document = TFIDF().find_similar_document(query, data_obj)\n",
        "# Top 5 SImilar Document\n",
        "for i  in range (5):\n",
        "  print(Similar_document[i])\n"
      ],
      "metadata": {
        "id": "L-2shusQKRsK"
      },
      "execution_count": null,
      "outputs": []
    },
    {
      "cell_type": "code",
      "source": [],
      "metadata": {
        "id": "ElZ1dRjQR18k"
      },
      "execution_count": null,
      "outputs": []
    }
  ],
  "metadata": {
    "colab": {
      "provenance": []
    },
    "kernelspec": {
      "display_name": "Python 3",
      "name": "python3"
    },
    "language_info": {
      "name": "python"
    }
  },
  "nbformat": 4,
  "nbformat_minor": 0
}